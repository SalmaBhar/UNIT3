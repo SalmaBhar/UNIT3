{
  "nbformat": 4,
  "nbformat_minor": 0,
  "metadata": {
    "colab": {
      "name": "Quiz26.ipynb",
      "provenance": [],
      "authorship_tag": "ABX9TyOx8Ub+EYpKWKiczjrtEfpk",
      "include_colab_link": true
    },
    "kernelspec": {
      "name": "python3",
      "display_name": "Python 3"
    },
    "language_info": {
      "name": "python"
    }
  },
  "cells": [
    {
      "cell_type": "markdown",
      "metadata": {
        "id": "view-in-github",
        "colab_type": "text"
      },
      "source": [
        "<a href=\"https://colab.research.google.com/github/SalmaBhar/UNIT3/blob/main/Quiz26.ipynb\" target=\"_parent\"><img src=\"https://colab.research.google.com/assets/colab-badge.svg\" alt=\"Open In Colab\"/></a>"
      ]
    },
    {
      "cell_type": "code",
      "metadata": {
        "colab": {
          "base_uri": "https://localhost:8080/"
        },
        "id": "sgT-9Y5v2-No",
        "outputId": "3bff7d22-4fa2-4cec-ee1d-05be723710f9"
      },
      "source": [
        "def sum67(num_array):\n",
        "  flag=False\n",
        "  sum=0\n",
        "  for i in range(len(num_array)):\n",
        "    if flag==False:\n",
        "      if num_array[i]==6:\n",
        "        flag=True\n",
        "      else:\n",
        "        sum+=num_array[i]\n",
        "    elif num_array[i]==7: \n",
        "      flag==False\n",
        "  return sum\n",
        "\n",
        "print(sum67([1, 1, 6, 1, 7]))"
      ],
      "execution_count": 19,
      "outputs": [
        {
          "output_type": "stream",
          "text": [
            "2\n"
          ],
          "name": "stdout"
        }
      ]
    }
  ]
}