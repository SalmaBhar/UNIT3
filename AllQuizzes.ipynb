{
  "nbformat": 4,
  "nbformat_minor": 0,
  "metadata": {
    "colab": {
      "name": "AllQuizzes.ipynb",
      "provenance": [],
      "toc_visible": true,
      "authorship_tag": "ABX9TyNjdQWC3tiwpGAS63SJX4kb",
      "include_colab_link": true
    },
    "kernelspec": {
      "name": "python3",
      "display_name": "Python 3"
    }
  },
  "cells": [
    {
      "cell_type": "markdown",
      "metadata": {
        "id": "view-in-github",
        "colab_type": "text"
      },
      "source": [
        "<a href=\"https://colab.research.google.com/github/SalmaBhar/UNIT3/blob/main/AllQuizzes.ipynb\" target=\"_parent\"><img src=\"https://colab.research.google.com/assets/colab-badge.svg\" alt=\"Open In Colab\"/></a>"
      ]
    },
    {
      "cell_type": "markdown",
      "metadata": {
        "id": "BPhDs4n4mbWZ"
      },
      "source": [
        "# **Quizzes - Salma**\r\n",
        "\r\n"
      ]
    },
    {
      "cell_type": "markdown",
      "metadata": {
        "id": "4jWBSwPfmu1j"
      },
      "source": [
        "# Quiz 17"
      ]
    },
    {
      "cell_type": "code",
      "metadata": {
        "colab": {
          "base_uri": "https://localhost:8080/"
        },
        "id": "_1vBdXZ5mOYL",
        "outputId": "b54ec9ac-eb78-4cb5-91ac-db6dd0c4fc63"
      },
      "source": [
        "# Quiz 17\r\n",
        "def givesteps(n :str):\r\n",
        "    num_digits = len(n)\r\n",
        "    step: int=0\r\n",
        "    prod = 1\r\n",
        "    while num_digits>1:\r\n",
        "        step += 1\r\n",
        "        for i in range(0, num_digits-1):\r\n",
        "            prod = prod*int(n[i])\r\n",
        "            num_digits=len(str(prod))\r\n",
        "    return step\r\n",
        "\r\n",
        "#Testing\r\n",
        "print(givesteps(\"390\"))"
      ],
      "execution_count": 1,
      "outputs": [
        {
          "output_type": "stream",
          "text": [
            "5\n"
          ],
          "name": "stdout"
        }
      ]
    },
    {
      "cell_type": "markdown",
      "metadata": {
        "id": "pE2wzH_TneKh"
      },
      "source": [
        "# Quiz 19"
      ]
    },
    {
      "cell_type": "code",
      "metadata": {
        "colab": {
          "base_uri": "https://localhost:8080/",
          "height": 357
        },
        "id": "CoHSRP5AngMP",
        "outputId": "f4f1c28c-8403-4a96-c580-f1fc587223f0"
      },
      "source": [
        "def change(x: str):\r\n",
        "  nums = {\r\n",
        "    '000': '0',\r\n",
        "    '001': '1',\r\n",
        "    '010': '2',\r\n",
        "    '011': '3',\r\n",
        "    '100': '4',\r\n",
        "    '101': '5',\r\n",
        "    '110': '6',\r\n",
        "    '111': '7'\r\n",
        "    }\r\n",
        "  n = \"\"\r\n",
        "  x = x.split(\"!\")\r\n",
        "  for i in range(0, len(x)):\r\n",
        "    for j in range(0, len(nums)):\r\n",
        "      if x[i] == nums[j]:\r\n",
        "        return nums[j]\r\n",
        "            \r\n",
        "# testing\r\n",
        "print(change(\"100!000!111\"))\r\n",
        "\r\n",
        "# I CANNOT FIGURE OUT THE PROBLEM"
      ],
      "execution_count": 7,
      "outputs": [
        {
          "output_type": "error",
          "ename": "KeyError",
          "evalue": "ignored",
          "traceback": [
            "\u001b[0;31m---------------------------------------------------------------------------\u001b[0m",
            "\u001b[0;31mKeyError\u001b[0m                                  Traceback (most recent call last)",
            "\u001b[0;32m<ipython-input-7-e8376c050a05>\u001b[0m in \u001b[0;36m<module>\u001b[0;34m()\u001b[0m\n\u001b[1;32m     18\u001b[0m \u001b[0;34m\u001b[0m\u001b[0m\n\u001b[1;32m     19\u001b[0m \u001b[0;31m# testing\u001b[0m\u001b[0;34m\u001b[0m\u001b[0;34m\u001b[0m\u001b[0;34m\u001b[0m\u001b[0m\n\u001b[0;32m---> 20\u001b[0;31m \u001b[0mprint\u001b[0m\u001b[0;34m(\u001b[0m\u001b[0mchange\u001b[0m\u001b[0;34m(\u001b[0m\u001b[0;34m\"100!000!111\"\u001b[0m\u001b[0;34m)\u001b[0m\u001b[0;34m)\u001b[0m\u001b[0;34m\u001b[0m\u001b[0;34m\u001b[0m\u001b[0m\n\u001b[0m\u001b[1;32m     21\u001b[0m \u001b[0;34m\u001b[0m\u001b[0m\n\u001b[1;32m     22\u001b[0m \u001b[0;31m# I CANNOT FIGURE OUT THE PROBLEM\u001b[0m\u001b[0;34m\u001b[0m\u001b[0;34m\u001b[0m\u001b[0;34m\u001b[0m\u001b[0m\n",
            "\u001b[0;32m<ipython-input-7-e8376c050a05>\u001b[0m in \u001b[0;36mchange\u001b[0;34m(x)\u001b[0m\n\u001b[1;32m     14\u001b[0m   \u001b[0;32mfor\u001b[0m \u001b[0mi\u001b[0m \u001b[0;32min\u001b[0m \u001b[0mrange\u001b[0m\u001b[0;34m(\u001b[0m\u001b[0;36m0\u001b[0m\u001b[0;34m,\u001b[0m \u001b[0mlen\u001b[0m\u001b[0;34m(\u001b[0m\u001b[0mx\u001b[0m\u001b[0;34m)\u001b[0m\u001b[0;34m)\u001b[0m\u001b[0;34m:\u001b[0m\u001b[0;34m\u001b[0m\u001b[0;34m\u001b[0m\u001b[0m\n\u001b[1;32m     15\u001b[0m     \u001b[0;32mfor\u001b[0m \u001b[0mj\u001b[0m \u001b[0;32min\u001b[0m \u001b[0mrange\u001b[0m\u001b[0;34m(\u001b[0m\u001b[0;36m0\u001b[0m\u001b[0;34m,\u001b[0m \u001b[0mlen\u001b[0m\u001b[0;34m(\u001b[0m\u001b[0mnums\u001b[0m\u001b[0;34m)\u001b[0m\u001b[0;34m)\u001b[0m\u001b[0;34m:\u001b[0m\u001b[0;34m\u001b[0m\u001b[0;34m\u001b[0m\u001b[0m\n\u001b[0;32m---> 16\u001b[0;31m       \u001b[0;32mif\u001b[0m \u001b[0mx\u001b[0m\u001b[0;34m[\u001b[0m\u001b[0mi\u001b[0m\u001b[0;34m]\u001b[0m \u001b[0;34m==\u001b[0m \u001b[0mnums\u001b[0m\u001b[0;34m[\u001b[0m\u001b[0mj\u001b[0m\u001b[0;34m]\u001b[0m\u001b[0;34m:\u001b[0m\u001b[0;34m\u001b[0m\u001b[0;34m\u001b[0m\u001b[0m\n\u001b[0m\u001b[1;32m     17\u001b[0m         \u001b[0;32mreturn\u001b[0m \u001b[0mnums\u001b[0m\u001b[0;34m[\u001b[0m\u001b[0mj\u001b[0m\u001b[0;34m]\u001b[0m\u001b[0;34m\u001b[0m\u001b[0;34m\u001b[0m\u001b[0m\n\u001b[1;32m     18\u001b[0m \u001b[0;34m\u001b[0m\u001b[0m\n",
            "\u001b[0;31mKeyError\u001b[0m: 0"
          ]
        }
      ]
    },
    {
      "cell_type": "markdown",
      "metadata": {
        "id": "Jmvxcc9KqaTL"
      },
      "source": [
        "# Quiz 20"
      ]
    },
    {
      "cell_type": "code",
      "metadata": {
        "colab": {
          "base_uri": "https://localhost:8080/"
        },
        "id": "oVtc1ZBQtBdz",
        "outputId": "4d196761-07f3-4a4d-db6d-d273bc9185f4"
      },
      "source": [
        "inp = input(str())\r\n",
        "out=\"\"\r\n",
        "for i in range(0, len(inp)-1, 2):\r\n",
        "  out+= inp[i+1]+inp[i]\r\n",
        "print(out)"
      ],
      "execution_count": 13,
      "outputs": [
        {
          "output_type": "stream",
          "text": [
            "hellow\n",
            "ehllwo\n"
          ],
          "name": "stdout"
        }
      ]
    },
    {
      "cell_type": "markdown",
      "metadata": {
        "id": "jD_jxh3SteHr"
      },
      "source": [
        "# Quiz 21"
      ]
    },
    {
      "cell_type": "code",
      "metadata": {
        "colab": {
          "base_uri": "https://localhost:8080/"
        },
        "id": "ECKW4OGJtf-W",
        "outputId": "74692ebc-0e4f-4511-9e70-9a7640b89431"
      },
      "source": [
        "def mirror(n1 :str, n2 :str):\r\n",
        "    n3= str(n2 [::-1])\r\n",
        "    return (n2+n1+n3)\r\n",
        "\r\n",
        "print(mirror(\"[?????]\", \"#...\"))"
      ],
      "execution_count": 20,
      "outputs": [
        {
          "output_type": "stream",
          "text": [
            "#...[?????]...#\n"
          ],
          "name": "stdout"
        }
      ]
    },
    {
      "cell_type": "markdown",
      "metadata": {
        "id": "zTSSerFxtE6f"
      },
      "source": [
        "# Quiz 22"
      ]
    },
    {
      "cell_type": "code",
      "metadata": {
        "colab": {
          "base_uri": "https://localhost:8080/"
        },
        "id": "W9FZbxiqtG0V",
        "outputId": "31a0b353-e3cb-45ce-8339-094a85b1da6a"
      },
      "source": [
        "def combine(X: str):\r\n",
        "    X = X.split(\" \")\r\n",
        "    for i in range(0, len(X)):\r\n",
        "        for j in range(0, len(X[i])):\r\n",
        "            return str(X[i][0]) + str(len(X) - 2) + str(X[j][-1])\r\n",
        "\r\n",
        "# testing\r\n",
        "print(combine(\"hello world\"))\r\n",
        "\r\n",
        "# HAS TO BE FIXED"
      ],
      "execution_count": 23,
      "outputs": [
        {
          "output_type": "stream",
          "text": [
            "h0o\n"
          ],
          "name": "stdout"
        }
      ]
    },
    {
      "cell_type": "markdown",
      "metadata": {
        "id": "q6s0N2oOthe5"
      },
      "source": [
        "# Quiz 23"
      ]
    },
    {
      "cell_type": "code",
      "metadata": {
        "colab": {
          "base_uri": "https://localhost:8080/"
        },
        "id": "8vx2Qn_GtjXF",
        "outputId": "8c247e80-d8d1-40bc-e50c-028ad0fe0eaf"
      },
      "source": [
        "def triangle(a, b, c):\r\n",
        "    if a+b > c and b+c > a and a+c > b:\r\n",
        "        return True\r\n",
        "    else:\r\n",
        "        return False\r\n",
        "\r\n",
        "# testing:\r\n",
        "print(triangle(1,2,1))"
      ],
      "execution_count": 15,
      "outputs": [
        {
          "output_type": "stream",
          "text": [
            "False\n"
          ],
          "name": "stdout"
        }
      ]
    }
  ]
}