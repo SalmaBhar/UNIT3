{
  "nbformat": 4,
  "nbformat_minor": 0,
  "metadata": {
    "colab": {
      "name": "Quiz25.ipynb",
      "provenance": [],
      "authorship_tag": "ABX9TyOlfRG175XZ8IwbZW5CvPEr",
      "include_colab_link": true
    },
    "kernelspec": {
      "name": "python3",
      "display_name": "Python 3"
    },
    "language_info": {
      "name": "python"
    }
  },
  "cells": [
    {
      "cell_type": "markdown",
      "metadata": {
        "id": "view-in-github",
        "colab_type": "text"
      },
      "source": [
        "<a href=\"https://colab.research.google.com/github/SalmaBhar/UNIT3/blob/main/Quiz25.ipynb\" target=\"_parent\"><img src=\"https://colab.research.google.com/assets/colab-badge.svg\" alt=\"Open In Colab\"/></a>"
      ]
    },
    {
      "cell_type": "code",
      "metadata": {
        "colab": {
          "base_uri": "https://localhost:8080/"
        },
        "id": "-Co5nbxuWLxN",
        "outputId": "68f59f0b-ff13-47c2-93fc-6fa91fa94829"
      },
      "source": [
        "file = [\n",
        "    [2],\n",
        "    [\"67316\", \"081109883\", \"SARS\", \"POS\"],\n",
        "    [\"67873\", \"081102633\", \"SARS\", \"NEG\"]\n",
        "]\n",
        "\n",
        "\n",
        "def stats(test_file):\n",
        "    positive = 0\n",
        "    positive_rate = 0\n",
        "    num_samples = test_file[0][0]\n",
        "    for i in range(1, len(test_file)):\n",
        "        sampleId, patientId, analysis, result = test_file[i]\n",
        "        if analysis == \"SARS\":\n",
        "            if result == \"POS\":\n",
        "                positive += 1\n",
        "        positive_rate = positive * 100 / num_samples\n",
        "\n",
        "    text = \"Individuals Positive: {} | Total Positive: {} | Individuals Tested: {} | Total Tested: {} | Positive Rate: {}\".format(\n",
        "        positive, positive, num_samples, num_samples, positive_rate)\n",
        "    return print(text)\n",
        "\n",
        "\n",
        "stats(file)"
      ],
      "execution_count": 3,
      "outputs": [
        {
          "output_type": "stream",
          "text": [
            "Individuals Positive: 1 | Total Positive: 1 | Individuals Tested: 2 | Total Tested: 2 | Positive Rate: 50.0\n"
          ],
          "name": "stdout"
        }
      ]
    }
  ]
}