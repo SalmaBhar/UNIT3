{
  "nbformat": 4,
  "nbformat_minor": 0,
  "metadata": {
    "colab": {
      "name": "test_correction.ipynb",
      "provenance": [],
      "authorship_tag": "ABX9TyOr1NwzNY/8ESN7jrUMx1eS",
      "include_colab_link": true
    },
    "kernelspec": {
      "name": "python3",
      "display_name": "Python 3"
    }
  },
  "cells": [
    {
      "cell_type": "markdown",
      "metadata": {
        "id": "view-in-github",
        "colab_type": "text"
      },
      "source": [
        "<a href=\"https://colab.research.google.com/github/SalmaBhar/UNIT3/blob/main/test_correction.ipynb\" target=\"_parent\"><img src=\"https://colab.research.google.com/assets/colab-badge.svg\" alt=\"Open In Colab\"/></a>"
      ]
    },
    {
      "cell_type": "markdown",
      "metadata": {
        "id": "szZ4i1-zxnHd"
      },
      "source": [
        "# **Test Correction SL - Salma**"
      ]
    },
    {
      "cell_type": "code",
      "metadata": {
        "id": "J40GyGBBwYlm"
      },
      "source": [
        "# do later"
      ],
      "execution_count": null,
      "outputs": []
    }
  ]
}