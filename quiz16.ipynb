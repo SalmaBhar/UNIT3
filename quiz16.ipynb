{
  "nbformat": 4,
  "nbformat_minor": 0,
  "metadata": {
    "colab": {
      "name": "quiz17.ipynb",
      "provenance": [],
      "authorship_tag": "ABX9TyNiH1qrdMedan4A7Eoim8vQ",
      "include_colab_link": true
    },
    "kernelspec": {
      "name": "python3",
      "display_name": "Python 3"
    }
  },
  "cells": [
    {
      "cell_type": "markdown",
      "metadata": {
        "id": "view-in-github",
        "colab_type": "text"
      },
      "source": [
        "<a href=\"https://colab.research.google.com/github/SalmaBhar/UNIT3/blob/main/quiz17.ipynb\" target=\"_parent\"><img src=\"https://colab.research.google.com/assets/colab-badge.svg\" alt=\"Open In Colab\"/></a>"
      ]
    },
    {
      "cell_type": "code",
      "metadata": {
        "colab": {
          "base_uri": "https://localhost:8080/"
        },
        "id": "hHHd3d_Uj6nl",
        "outputId": "c7ff5ff0-7808-4f87-9d71-964ada58591d"
      },
      "source": [
        "# Defining the function\r\n",
        "def evenlySpaced(a,b,c):\r\n",
        "  if a!=b and b!=c and c!=a:\r\n",
        "    smallest=min(a,b,c)\r\n",
        "    biggest=max(a,b,c)\r\n",
        "    medium=(a+b+c)-(smallest+biggest)\r\n",
        "    if medium-smallest==biggest-medium:\r\n",
        "      return True\r\n",
        "    else:\r\n",
        "      return False\r\n",
        "\r\n",
        "# Tests\r\n",
        "print(evenlySpaced(2, 4, 6))\r\n",
        "print(evenlySpaced(4, 6, 2))\r\n",
        "print(evenlySpaced(4, 6, 3)) \r\n",
        "\r\n"
      ],
      "execution_count": 13,
      "outputs": [
        {
          "output_type": "stream",
          "text": [
            "True\n",
            "True\n",
            "False\n"
          ],
          "name": "stdout"
        }
      ]
    }
  ]
}
