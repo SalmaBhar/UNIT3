{
  "nbformat": 4,
  "nbformat_minor": 0,
  "metadata": {
    "colab": {
      "name": "codingLunar.ipynb",
      "provenance": [],
      "collapsed_sections": [],
      "authorship_tag": "ABX9TyOXwqBv1L754z1L7+O2H1WM",
      "include_colab_link": true
    },
    "kernelspec": {
      "name": "python3",
      "display_name": "Python 3"
    }
  },
  "cells": [
    {
      "cell_type": "markdown",
      "metadata": {
        "id": "view-in-github",
        "colab_type": "text"
      },
      "source": [
        "<a href=\"https://colab.research.google.com/github/SalmaBhar/UNIT3/blob/main/codingLunar.ipynb\" target=\"_parent\"><img src=\"https://colab.research.google.com/assets/colab-badge.svg\" alt=\"Open In Colab\"/></a>"
      ]
    },
    {
      "cell_type": "code",
      "metadata": {
        "colab": {
          "base_uri": "https://localhost:8080/"
        },
        "id": "jDucnZ5zbfDN",
        "outputId": "2ed57ae6-1d47-4b4e-fe1a-55faab34409f"
      },
      "source": [
        "# Program 1\r\n",
        "X=int(input('Input your number here '))\r\n",
        "T=X*(1+X+X*X)\r\n",
        "print('The total number of citizens is {}'.format(T))"
      ],
      "execution_count": 1,
      "outputs": [
        {
          "output_type": "stream",
          "text": [
            "Input your number here 9\n",
            "The total number of citizens is 819\n"
          ],
          "name": "stdout"
        }
      ]
    },
    {
      "cell_type": "code",
      "metadata": {
        "id": "l9vk7TTSgQzj"
      },
      "source": [
        "# Program 2\r\n",
        "num=int(input('Input your message here '))\r\n",
        "sum=0\r\n",
        "for i in range(num[0],num[3]):\r\n",
        "  sum+=i\r\n",
        "# NOT DONE"
      ],
      "execution_count": null,
      "outputs": []
    },
    {
      "cell_type": "code",
      "metadata": {
        "id": "9RwEdwZ8h8WV"
      },
      "source": [
        "# Program 3\r\n",
        "not_whole=input('Input your number here ')\r\n",
        "if '%' in not_whole or '/' in not_whole or '.' in not_whole:\r\n",
        "  for i in range(0,len(not_whole)):\r\n",
        "# HELP NOT DONE"
      ],
      "execution_count": null,
      "outputs": []
    }
  ]
}